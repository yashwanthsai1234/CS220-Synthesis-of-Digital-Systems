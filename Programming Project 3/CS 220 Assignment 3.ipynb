{
 "cells": [
  {
   "cell_type": "code",
   "execution_count": 2,
   "id": "cc094c3d",
   "metadata": {},
   "outputs": [
    {
     "name": "stdout",
     "output_type": "stream",
     "text": [
      "Collecting z3-solver\n",
      "  Downloading z3_solver-4.12.4.0-py2.py3-none-win_amd64.whl (58.9 MB)\n",
      "     ---------------------------------------- 58.9/58.9 MB 1.2 MB/s eta 0:00:00\n",
      "Installing collected packages: z3-solver\n",
      "Successfully installed z3-solver-4.12.4.0\n",
      "Note: you may need to restart the kernel to use updated packages.\n"
     ]
    }
   ],
   "source": [
    "pip install z3-solver\n"
   ]
  },
  {
   "cell_type": "code",
   "execution_count": 11,
   "id": "263e317b",
   "metadata": {},
   "outputs": [],
   "source": [
    "from z3 import *\n",
    "\n",
    "def read_input(file_name):\n",
    "    with open(file_name, 'r') as file:\n",
    "        n_vertices, n_interference_edges, n_affinity_edges, K1, K2 = map(int, file.readline().split())\n",
    "        interference_edges = [tuple(map(int, file.readline().split())) for _ in range(n_interference_edges)]\n",
    "        affinity_edges = [tuple(map(int, file.readline().split())) for _ in range(n_affinity_edges)]\n",
    "    return n_vertices, interference_edges, affinity_edges, K1, K2\n"
   ]
  },
  {
   "cell_type": "code",
   "execution_count": 12,
   "id": "7d8aa3e4",
   "metadata": {},
   "outputs": [],
   "source": [
    "def solve_graph_coloring(n_vertices, interference_edges, affinity_edges, K1, K2):\n",
    "    solver = Solver()\n",
    "    colors = [Int(f'color_{i}') for i in range(1, n_vertices + 1)]\n",
    "    for color in colors:\n",
    "        solver.add(1 <= color, color <= K1)\n",
    "    for u, v in interference_edges:\n",
    "        solver.add(colors[u - 1] != colors[v - 1])\n",
    "    affinity_constraints = [colors[x - 1] == colors[y - 1] for x, y in affinity_edges]\n",
    "    solver.add(Sum([If(c, 1, 0) for c in affinity_constraints]) >= K2)\n",
    "    if solver.check() == sat:\n",
    "        model = solver.model()\n",
    "        solution = [model.evaluate(color) for color in colors]\n",
    "        return 'Yes', solution\n",
    "    else:\n",
    "        return 'No', []"
   ]
  },
  {
   "cell_type": "code",
   "execution_count": 13,
   "id": "83421c7a",
   "metadata": {},
   "outputs": [],
   "source": [
    "def write_output(file_name, result, solution):\n",
    "    with open(file_name, 'w') as file:\n",
    "        file.write(result + '\\n')\n",
    "        if result == 'Yes':\n",
    "            for color in solution:\n",
    "                file.write(str(color) + '\\n')\n",
    "input_file = 'sample_5_3.txt'\n",
    "output_file = 'output_5_3.txt'\n",
    "\n",
    "n_vertices, interference_edges, affinity_edges, K1, K2 = read_input(input_file)\n",
    "result, solution = solve_graph_coloring(n_vertices, interference_edges, affinity_edges, K1, K2)\n",
    "write_output(output_file, result, solution)\n"
   ]
  },
  {
   "cell_type": "code",
   "execution_count": null,
   "id": "bc2714c3",
   "metadata": {},
   "outputs": [],
   "source": []
  }
 ],
 "metadata": {
  "kernelspec": {
   "display_name": "Python 3 (ipykernel)",
   "language": "python",
   "name": "python3"
  },
  "language_info": {
   "codemirror_mode": {
    "name": "ipython",
    "version": 3
   },
   "file_extension": ".py",
   "mimetype": "text/x-python",
   "name": "python",
   "nbconvert_exporter": "python",
   "pygments_lexer": "ipython3",
   "version": "3.9.13"
  }
 },
 "nbformat": 4,
 "nbformat_minor": 5
}
